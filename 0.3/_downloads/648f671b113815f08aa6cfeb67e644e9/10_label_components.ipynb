{
  "cells": [
    {
      "cell_type": "markdown",
      "metadata": {},
      "source": [
        "\n\n# Labeling ICA components with a GUI\n\nThis tutorial covers how to label ICA components with a GUI.\n\n<div class=\"alert alert-danger\"><h4>Warning</h4><p>The GUI is still in active development, and may contain\n             bugs, or changes without deprecation in future versions.</p></div>\n"
      ]
    },
    {
      "cell_type": "code",
      "execution_count": null,
      "metadata": {
        "collapsed": false
      },
      "outputs": [],
      "source": [
        "import os\n\nimport mne\nfrom mne.preprocessing import ICA\n\nfrom mne_icalabel.gui import label_ica_components"
      ]
    },
    {
      "cell_type": "markdown",
      "metadata": {},
      "source": [
        "Load in some sample data\n\n"
      ]
    },
    {
      "cell_type": "code",
      "execution_count": null,
      "metadata": {
        "collapsed": false
      },
      "outputs": [],
      "source": [
        "sample_data_folder = mne.datasets.sample.data_path()\nsample_data_raw_file = os.path.join(\n    sample_data_folder, \"MEG\", \"sample\", \"sample_audvis_filt-0-40_raw.fif\"\n)\nraw = mne.io.read_raw_fif(sample_data_raw_file)\n\n# Here we'll crop to 60 seconds and drop gradiometer channels for speed\nraw.crop(tmax=60.0).pick_types(meg=\"mag\", eeg=True, stim=True, eog=True)\nraw.load_data()"
      ]
    },
    {
      "cell_type": "markdown",
      "metadata": {},
      "source": [
        "## Preprocess and run ICA on the data\nBefore labeling components with the GUI, one needs to filter the data\nand then fit the ICA instance. Afterwards, one can run the GUI using the\n``Raw`` data object and the fitted ``ICA`` instance.\n\n"
      ]
    },
    {
      "cell_type": "code",
      "execution_count": null,
      "metadata": {
        "collapsed": false
      },
      "outputs": [],
      "source": [
        "# high-pass filter the data and then perform ICA\nfilt_raw = raw.copy().filter(l_freq=1.0, h_freq=None)\nica = ICA(n_components=15, max_iter=\"auto\", random_state=97)\nica.fit(filt_raw)"
      ]
    },
    {
      "cell_type": "markdown",
      "metadata": {},
      "source": [
        "## Annotate ICA components with the GUI\nThe GUI will modify the ICA instance in place, and add the\nlabels of each component to the ``labels_`` attribute. The\nGUI will show features of the ICA components similar to the\n:func:`mne.viz.plot_ica_properties` function. It will also provide an\ninterface to label each ICA component into one of seven categories:\n\n- Brain\n- Muscle\n- Eye\n- Heart\n- Line Noise\n- Channel Noise\n- Other\n\nFor more information on annotating ICA components, we suggest\nreading through the tutorial from ``ICLabel``\n(https://labeling.ucsd.edu/tutorial/about).\n\n"
      ]
    },
    {
      "cell_type": "code",
      "execution_count": null,
      "metadata": {
        "collapsed": false
      },
      "outputs": [],
      "source": [
        "gui = label_ica_components(raw, ica)\n\n# The `ica` object is modified to contain the component labels\n# after closing the GUI and can now be saved\n# gui.close()  # typically you close when done\n\n# Now, we can take a look at the components, which were modified in-place\n# for the ICA instance.\nprint(ica.labels_)"
      ]
    },
    {
      "cell_type": "markdown",
      "metadata": {},
      "source": [
        "## Save the labeled components\nAfter the GUI labels, save the components using the ``write_components_tsv``\nfunction. This will save the ICA annotations to disc in BIDS-Derivative for\nEEG data format.\n\nNote: BIDS-EEG-Derivatives is not fully specified, so this functionality\nmay change in the future without notice.\n\n"
      ]
    },
    {
      "cell_type": "code",
      "execution_count": null,
      "metadata": {
        "collapsed": false
      },
      "outputs": [],
      "source": [
        "# fname = '<some path to save the components>'\n# write_components_tsv(ica, fname)"
      ]
    }
  ],
  "metadata": {
    "kernelspec": {
      "display_name": "Python 3",
      "language": "python",
      "name": "python3"
    },
    "language_info": {
      "codemirror_mode": {
        "name": "ipython",
        "version": 3
      },
      "file_extension": ".py",
      "mimetype": "text/x-python",
      "name": "python",
      "nbconvert_exporter": "python",
      "pygments_lexer": "ipython3",
      "version": "3.10.12"
    }
  },
  "nbformat": 4,
  "nbformat_minor": 0
}